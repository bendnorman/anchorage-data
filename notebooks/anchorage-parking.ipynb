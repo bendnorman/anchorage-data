{
 "cells": [
  {
   "cell_type": "markdown",
   "id": "8732ce98-7c53-44a6-9b44-f62e535be3b5",
   "metadata": {},
   "source": [
    "# Pupose\n",
    "Estimate total area of Anchroage parking lots. "
   ]
  },
  {
   "cell_type": "code",
   "execution_count": 19,
   "id": "fd64b637-b64a-4275-843c-c4155d6d2c29",
   "metadata": {},
   "outputs": [
    {
     "name": "stdout",
     "output_type": "stream",
     "text": [
      "The autoreload extension is already loaded. To reload it, use:\n",
      "  %reload_ext autoreload\n"
     ]
    }
   ],
   "source": [
    "%load_ext autoreload\n",
    "%autoreload 3"
   ]
  },
  {
   "cell_type": "code",
   "execution_count": 20,
   "id": "5077abcc-5eb5-4168-b8d7-9089b7a254d6",
   "metadata": {},
   "outputs": [],
   "source": [
    "import osmnx as ox"
   ]
  },
  {
   "cell_type": "code",
   "execution_count": 21,
   "id": "8730532e-ba1c-40a5-8ff1-d8dd04f75575",
   "metadata": {},
   "outputs": [
    {
     "data": {
      "text/plain": [
       "(527, 55)"
      ]
     },
     "execution_count": 21,
     "metadata": {},
     "output_type": "execute_result"
    }
   ],
   "source": [
    "tags = {\"parking\": True}\n",
    "anchorage = ox.geometries_from_place(\"Anchorage, Alaska, USA\", tags)\n",
    "anchorage.shape"
   ]
  },
  {
   "cell_type": "code",
   "execution_count": 32,
   "id": "8f807628-b673-4f8b-b4fe-db5f175a44b4",
   "metadata": {},
   "outputs": [
    {
     "data": {
      "text/plain": [
       "<AxesSubplot: >"
      ]
     },
     "execution_count": 32,
     "metadata": {},
     "output_type": "execute_result"
    },
    {
     "data": {
      "image/png": "[encoded data removed]",
      "text/plain": [
       "<Figure size 1500x1000 with 1 Axes>"
      ]
     },
     "metadata": {},
     "output_type": "display_data"
    }
   ],
   "source": [
    "anchorage.plot(figsize=(15,10))"
   ]
  },
  {
   "cell_type": "code",
   "execution_count": 33,
   "id": "379762c2-91ea-4a60-8fbc-ee53062fdede",
   "metadata": {},
   "outputs": [
    {
     "data": {
      "text/plain": [
       "<Derived Projected CRS: EPSG:3338>\n",
       "Name: NAD83 / Alaska Albers\n",
       "Axis Info [cartesian]:\n",
       "- X[east]: Easting (metre)\n",
       "- Y[north]: Northing (metre)\n",
       "Area of Use:\n",
       "- name: United States (USA) - Alaska.\n",
       "- bounds: (172.42, 51.3, -129.99, 71.4)\n",
       "Coordinate Operation:\n",
       "- name: Alaska Albers (meters)\n",
       "- method: Albers Equal Area\n",
       "Datum: North American Datum 1983\n",
       "- Ellipsoid: GRS 1980\n",
       "- Prime Meridian: Greenwich"
      ]
     },
     "execution_count": 33,
     "metadata": {},
     "output_type": "execute_result"
    }
   ],
   "source": [
    "anchorage.crs"
   ]
  },
  {
   "cell_type": "code",
   "execution_count": 34,
   "id": "464113f0-ef98-4222-aa8c-7659b42d7bd7",
   "metadata": {},
   "outputs": [],
   "source": [
    "anchorage = anchorage.to_crs(\"EPSG:3338\")"
   ]
  },
  {
   "cell_type": "code",
   "execution_count": 35,
   "id": "6b23a759-6156-4787-ad35-c927b68f3049",
   "metadata": {},
   "outputs": [
    {
     "data": {
      "text/html": [
       "<div>\n",
       "<style scoped>\n",
       "    .dataframe tbody tr th:only-of-type {\n",
       "        vertical-align: middle;\n",
       "    }\n",
       "\n",
       "    .dataframe tbody tr th {\n",
       "        vertical-align: top;\n",
       "    }\n",
       "\n",
       "    .dataframe thead th {\n",
       "        text-align: right;\n",
       "    }\n",
       "</style>\n",
       "<table border=\"1\" class=\"dataframe\">\n",
       "  <thead>\n",
       "    <tr style=\"text-align: right;\">\n",
       "      <th></th>\n",
       "      <th>amenity</th>\n",
       "      <th>parking</th>\n",
       "      <th>geometry</th>\n",
       "      <th>name</th>\n",
       "      <th>operator</th>\n",
       "      <th>nodes</th>\n",
       "      <th>access</th>\n",
       "      <th>surface</th>\n",
       "      <th>building</th>\n",
       "      <th>capacity</th>\n",
       "      <th>...</th>\n",
       "      <th>brand:wikipedia</th>\n",
       "      <th>operator:wikidata</th>\n",
       "      <th>operator:wikipedia</th>\n",
       "      <th>covered</th>\n",
       "      <th>email</th>\n",
       "      <th>opening_hours</th>\n",
       "      <th>start_date</th>\n",
       "      <th>wikidata</th>\n",
       "      <th>wikipedia</th>\n",
       "      <th>landuse</th>\n",
       "    </tr>\n",
       "    <tr>\n",
       "      <th>element_type</th>\n",
       "      <th></th>\n",
       "      <th></th>\n",
       "      <th></th>\n",
       "      <th></th>\n",
       "      <th></th>\n",
       "      <th></th>\n",
       "      <th></th>\n",
       "      <th></th>\n",
       "      <th></th>\n",
       "      <th></th>\n",
       "      <th></th>\n",
       "      <th></th>\n",
       "      <th></th>\n",
       "      <th></th>\n",
       "      <th></th>\n",
       "      <th></th>\n",
       "      <th></th>\n",
       "      <th></th>\n",
       "      <th></th>\n",
       "      <th></th>\n",
       "      <th></th>\n",
       "    </tr>\n",
       "  </thead>\n",
       "  <tbody>\n",
       "    <tr>\n",
       "      <th>node</th>\n",
       "      <td>14</td>\n",
       "      <td>15</td>\n",
       "      <td>15</td>\n",
       "      <td>2</td>\n",
       "      <td>3</td>\n",
       "      <td>0</td>\n",
       "      <td>6</td>\n",
       "      <td>3</td>\n",
       "      <td>0</td>\n",
       "      <td>0</td>\n",
       "      <td>...</td>\n",
       "      <td>0</td>\n",
       "      <td>0</td>\n",
       "      <td>0</td>\n",
       "      <td>0</td>\n",
       "      <td>0</td>\n",
       "      <td>0</td>\n",
       "      <td>0</td>\n",
       "      <td>0</td>\n",
       "      <td>0</td>\n",
       "      <td>0</td>\n",
       "    </tr>\n",
       "    <tr>\n",
       "      <th>relation</th>\n",
       "      <td>3</td>\n",
       "      <td>3</td>\n",
       "      <td>3</td>\n",
       "      <td>0</td>\n",
       "      <td>1</td>\n",
       "      <td>3</td>\n",
       "      <td>2</td>\n",
       "      <td>0</td>\n",
       "      <td>0</td>\n",
       "      <td>0</td>\n",
       "      <td>...</td>\n",
       "      <td>0</td>\n",
       "      <td>0</td>\n",
       "      <td>0</td>\n",
       "      <td>0</td>\n",
       "      <td>0</td>\n",
       "      <td>0</td>\n",
       "      <td>0</td>\n",
       "      <td>0</td>\n",
       "      <td>0</td>\n",
       "      <td>0</td>\n",
       "    </tr>\n",
       "    <tr>\n",
       "      <th>way</th>\n",
       "      <td>505</td>\n",
       "      <td>509</td>\n",
       "      <td>509</td>\n",
       "      <td>48</td>\n",
       "      <td>46</td>\n",
       "      <td>509</td>\n",
       "      <td>329</td>\n",
       "      <td>96</td>\n",
       "      <td>23</td>\n",
       "      <td>8</td>\n",
       "      <td>...</td>\n",
       "      <td>2</td>\n",
       "      <td>2</td>\n",
       "      <td>2</td>\n",
       "      <td>1</td>\n",
       "      <td>1</td>\n",
       "      <td>1</td>\n",
       "      <td>1</td>\n",
       "      <td>1</td>\n",
       "      <td>1</td>\n",
       "      <td>1</td>\n",
       "    </tr>\n",
       "  </tbody>\n",
       "</table>\n",
       "<p>3 rows × 55 columns</p>\n",
       "</div>"
      ],
      "text/plain": [
       "              amenity  parking  geometry  name  operator  nodes  access  \\\n",
       "element_type                                                              \n",
       "node               14       15        15     2         3      0       6   \n",
       "relation            3        3         3     0         1      3       2   \n",
       "way               505      509       509    48        46    509     329   \n",
       "\n",
       "              surface  building  capacity  ...  brand:wikipedia  \\\n",
       "element_type                               ...                    \n",
       "node                3         0         0  ...                0   \n",
       "relation            0         0         0  ...                0   \n",
       "way                96        23         8  ...                2   \n",
       "\n",
       "              operator:wikidata  operator:wikipedia  covered  email  \\\n",
       "element_type                                                          \n",
       "node                          0                   0        0      0   \n",
       "relation                      0                   0        0      0   \n",
       "way                           2                   2        1      1   \n",
       "\n",
       "              opening_hours  start_date  wikidata  wikipedia  landuse  \n",
       "element_type                                                           \n",
       "node                      0           0         0          0        0  \n",
       "relation                  0           0         0          0        0  \n",
       "way                       1           1         1          1        1  \n",
       "\n",
       "[3 rows x 55 columns]"
      ]
     },
     "execution_count": 35,
     "metadata": {},
     "output_type": "execute_result"
    }
   ],
   "source": [
    "anchorage.groupby(\"element_type\").count()"
   ]
  },
  {
   "cell_type": "code",
   "execution_count": 36,
   "id": "2fe119e9-7c77-4fc3-8e45-8383476c11d7",
   "metadata": {},
   "outputs": [
    {
     "data": {
      "text/plain": [
       "471.8088310797288"
      ]
     },
     "execution_count": 36,
     "metadata": {},
     "output_type": "execute_result"
    }
   ],
   "source": [
    "# A football field is 1.32 acres https://www.stack.com/a/how-many-acres-is-a-football-field/#:~:text=If%20you%20calculate%20the%20entire,about%201.32%20acres%20in%20size.\n",
    "# Alaska Albers projection uses meters so we need to convert acres to meters squared\n",
    "\n",
    "football_area = 5341.85 # in m^2 \n",
    "\n",
    "anchorage.area.sum() / football"
   ]
  }
 ],
 "metadata": {
  "kernelspec": {
   "display_name": "Python 3 (ipykernel)",
   "language": "python",
   "name": "python3"
  },
  "language_info": {
   "codemirror_mode": {
    "name": "ipython",
    "version": 3
   },
   "file_extension": ".py",
   "mimetype": "text/x-python",
   "name": "python",
   "nbconvert_exporter": "python",
   "pygments_lexer": "ipython3",
   "version": "3.10.6"
  }
 },
 "nbformat": 4,
 "nbformat_minor": 5
}
